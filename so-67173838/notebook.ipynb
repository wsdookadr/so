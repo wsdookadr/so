{
 "cells": [
  {
   "cell_type": "code",
   "execution_count": 1,
   "metadata": {},
   "outputs": [
    {
     "data": {
      "image/png": "[encoded data removed]",
      "text/latex": [
       "$\\displaystyle \\frac{\\partial}{\\partial x} F{\\left(x \\right)}$"
      ],
      "text/plain": [
       "d       \n",
       "──(F(x))\n",
       "dx      "
      ]
     },
     "metadata": {},
     "output_type": "display_data"
    }
   ],
   "source": [
    "from sympy import *\n",
    "from sympy.printing.latex import LatexPrinter\n",
    "from sympy.core.function import _coeff_isneg, AppliedUndef, Derivative\n",
    "from sympy.printing.precedence import precedence, PRECEDENCE\n",
    "\n",
    "class CustomPrint(LatexPrinter):\n",
    "    def _print_Derivative(self, expr):\n",
    "        diff_symbol = r'\\partial'\n",
    "\n",
    "        \n",
    "        tex = \"\" \n",
    "        dim = 0\n",
    "        for x, num in reversed(expr.variable_count):\n",
    "            dim += num\n",
    "            if num == 1:\n",
    "                tex += r\"%s %s\" % (diff_symbol, self._print(x))\n",
    "            else:\n",
    "                tex += r\"%s %s^{%s}\" % (diff_symbol,\n",
    "                                        self.parenthesize_super(self._print(x)),\n",
    "                                        self._print(num))\n",
    "\n",
    "        if dim == 1:\n",
    "            tex = r\"\\frac{%s}{%s}\" % (diff_symbol, tex) \n",
    "        else:\n",
    "            tex = r\"\\frac{%s^{%s}}{%s}\" % (diff_symbol, self._print(dim), tex) \n",
    "\n",
    "        if any(_coeff_isneg(i) for i in expr.args):\n",
    "            return r\"%s %s\" % (tex, self.parenthesize(expr.expr,\n",
    "                                                  PRECEDENCE[\"Mul\"],\n",
    "                                                  is_neg=True,\n",
    "                                                  strict=True))\n",
    "\n",
    "        return r\"%s %s\" % (tex, self.parenthesize(expr.expr,\n",
    "                                                  PRECEDENCE[\"Mul\"],\n",
    "                                                  is_neg=False,\n",
    "                                                  strict=True))\n",
    "        \n",
    "def custom_print_func(expr, **settings):\n",
    "    return CustomPrint().doprint(expr)\n",
    "    \n",
    "    \n",
    "x = symbols('x')\n",
    "F = Function('F')(x)\n",
    "init_printing(use_latex=True,latex_mode=\"plain\",latex_printer=custom_print_func)\n",
    "\n",
    "dF_dx = F.diff(x)\n",
    "\n",
    "display(dF_dx)\n",
    "\n",
    "\n",
    "\n"
   ]
  }
 ],
 "metadata": {
  "kernelspec": {
   "display_name": "Python 3",
   "language": "python",
   "name": "python3"
  },
  "language_info": {
   "codemirror_mode": {
    "name": "ipython",
    "version": 3
   },
   "file_extension": ".py",
   "mimetype": "text/x-python",
   "name": "python",
   "nbconvert_exporter": "python",
   "pygments_lexer": "ipython3",
   "version": "3.7.3"
  }
 },
 "nbformat": 4,
 "nbformat_minor": 4
}
