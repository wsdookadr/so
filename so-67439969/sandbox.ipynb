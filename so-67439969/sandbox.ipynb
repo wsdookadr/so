{
 "cells": [
  {
   "cell_type": "code",
   "execution_count": 7,
   "metadata": {},
   "outputs": [
    {
     "data": {
      "text/latex": [
       "$\\displaystyle \\operatorname{Poly}{\\left( \\frac{1}{48} x^{4}y^{3} -  \\frac{1}{24} x^{3}y^{5} -  \\frac{5}{96} x^{2}y^{2} -  \\frac{137}{1152} x^{2}y + \\frac{137}{576} xy^{3} + \\frac{45}{256}, x, y, domain=\\mathbb{Q} \\right)}$"
      ],
      "text/plain": [
       "Poly(1/48*x**4*y**3 - 1/24*x**3*y**5 - 5/96*x**2*y**2 - 137/1152*x**2*y + 137/576*x*y**3 + 45/256, x, y, domain='QQ')"
      ]
     },
     "execution_count": 7,
     "metadata": {},
     "output_type": "execute_result"
    }
   ],
   "source": [
    "from sympy import *\n",
    "\n",
    "def evalFn(n,x,y):\n",
    "    if n==0:\n",
    "        return 1\n",
    "    if n==1:\n",
    "        return (QQ(1,2)*x)-(y**2)\n",
    "    if n<=0:\n",
    "        return ValueError\n",
    "    else:\n",
    "        return ((2*n*x*y*evalFn(n-1,x,y))-((2*n)+1)*evalFn(n-2,x,y))/(2*(n**2))\n",
    "    \n",
    "x,y=symbols('x y')\n",
    "f = simplify(evalFn(4,x,y))\n",
    "f.as_poly()\n"
   ]
  }
 ],
 "metadata": {
  "kernelspec": {
   "display_name": "Python 3",
   "language": "python",
   "name": "python3"
  },
  "language_info": {
   "codemirror_mode": {
    "name": "ipython",
    "version": 3
   },
   "file_extension": ".py",
   "mimetype": "text/x-python",
   "name": "python",
   "nbconvert_exporter": "python",
   "pygments_lexer": "ipython3",
   "version": "3.7.3"
  }
 },
 "nbformat": 4,
 "nbformat_minor": 4
}
