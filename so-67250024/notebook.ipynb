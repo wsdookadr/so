{
 "cells": [
  {
   "cell_type": "code",
   "execution_count": 81,
   "metadata": {},
   "outputs": [
    {
     "data": {
      "text/latex": [
       "$\\displaystyle \\frac{L}{1 + e^{- k \\left(x - x_{0}\\right)}}$"
      ],
      "text/plain": [
       "L/(1 + exp(-k*(x - x_0)))"
      ]
     },
     "metadata": {},
     "output_type": "display_data"
    },
    {
     "data": {
      "text/latex": [
       "$\\displaystyle \\frac{1.00079203409226}{1 + 1.00176105455958 e^{- 0.997852274563045 x}}$"
      ],
      "text/plain": [
       "1.00079203409226/(1 + 1.00176105455958*exp(-0.997852274563045*x))"
      ]
     },
     "metadata": {},
     "output_type": "display_data"
    },
    {
     "data": {
      "image/png": "[encoded data removed]",
      "text/plain": [
       "<Figure size 432x288 with 1 Axes>"
      ]
     },
     "metadata": {
      "needs_background": "light"
     },
     "output_type": "display_data"
    }
   ],
   "source": [
    "import numpy as np\n",
    "from sympy import *\n",
    "from scipy.optimize import curve_fit\n",
    "from sympy.utilities.lambdify import lambdify\n",
    "import matplotlib.pyplot as plt\n",
    "\n",
    "x = Symbol(\"x\")\n",
    "xs = [0, -1, 1, .5, -.5]\n",
    "ys = [.5, .269, .731, .622, .378]\n",
    "\n",
    "L,k,x0,x = symbols('L k x_0 x')\n",
    "f = L/(1+(exp(-k*(x-x0))))\n",
    "display(f)\n",
    "\n",
    "syms = list(f.free_symbols)\n",
    "syms.remove(x)\n",
    "syms.insert(0,x)\n",
    "py_f = lambdify(syms,f)\n",
    "\n",
    "popt, pcov = curve_fit(py_f, xs, ys, maxfev = 4 * (10**5))\n",
    "\n",
    "syms.pop(0)\n",
    "subs_arg = dict(list(zip(syms, popt)))\n",
    "\n",
    "f1 = f.subs(subs_arg)\n",
    "display(f1)\n",
    "\n",
    "f2 = lambdify([x],f1)\n",
    "\n",
    "# plot input data points\n",
    "plt.scatter(np.array(xs),np.array(ys),color=\"red\")\n",
    "\n",
    "# plot fitted function\n",
    "xp = np.arange(min(xs), max(xs)+1, 0.05)\n",
    "yp = f2(xp)\n",
    "plt.plot(xp,yp,color=\"blue\")\n",
    "plt.show()"
   ]
  },
  {
   "cell_type": "code",
   "execution_count": 16,
   "metadata": {},
   "outputs": [
    {
     "data": {
      "text/latex": [
       "$\\displaystyle \\operatorname{Poly}{\\left( - \\frac{13}{750} x^{3} + \\frac{149}{600} x + \\frac{1}{2}, x, domain=\\mathbb{Q} \\right)}$"
      ],
      "text/plain": [
       "Poly(-13/750*x**3 + 149/600*x + 1/2, x, domain='QQ')"
      ]
     },
     "metadata": {},
     "output_type": "display_data"
    },
    {
     "data": {
      "text/latex": [
       "$\\displaystyle \\operatorname{Poly}{\\left( - \\frac{13}{750} x^{3} + \\frac{149}{600} x + \\frac{1}{2}, x, domain=\\mathbb{Q} \\right)}$"
      ],
      "text/plain": [
       "Poly(-13/750*x**3 + 149/600*x + 1/2, x, domain='QQ')"
      ]
     },
     "metadata": {},
     "output_type": "display_data"
    }
   ],
   "source": [
    "from sympy import *\n",
    "from sympy.polys.specialpolys import interpolating_poly\n",
    "from sympy.polys.polyfuncs import interpolate\n",
    "\n",
    "x = Symbol(\"x\")\n",
    "xs = [0, -1, 1, .5, -.5]\n",
    "ys = [.5, .269, .731, .622, .378]\n",
    "\n",
    "xs = [QQ.convert(i) for i in xs]\n",
    "ys = [QQ.convert(i) for i in ys]\n",
    "\n",
    "p1 = expand(interpolating_poly(len(xs),x,X=xs,Y=ys)).as_poly()\n",
    "display(p1)\n",
    "\n",
    "p2 = interpolate( [(xs[i],ys[i]) for i in range(len(xs))], x).as_poly()\n",
    "display(p2)\n",
    "\n"
   ]
  }
 ],
 "metadata": {
  "kernelspec": {
   "display_name": "Python 3",
   "language": "python",
   "name": "python3"
  },
  "language_info": {
   "codemirror_mode": {
    "name": "ipython",
    "version": 3
   },
   "file_extension": ".py",
   "mimetype": "text/x-python",
   "name": "python",
   "nbconvert_exporter": "python",
   "pygments_lexer": "ipython3",
   "version": "3.7.3"
  }
 },
 "nbformat": 4,
 "nbformat_minor": 4
}
