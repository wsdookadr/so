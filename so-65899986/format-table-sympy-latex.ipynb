{
 "cells": [
  {
   "cell_type": "code",
   "execution_count": 1,
   "metadata": {},
   "outputs": [
    {
     "data": {
      "text/latex": [
       "$\\displaystyle \n",
       "\\newcommand\\T{\\Rule{0pt}{1em}{.3em}}\n",
       "\\begin{array}{|c|c|c|c|c|c|}    \n",
       "\\hline\\texttt{m/l} & -2 & -1 & 0 & 1 & 2\\\\\\hline\n",
       "1 &  &  & \\frac{1}{2 \\sqrt{\\pi}}\\\\\\hline\n",
       "2 &  & \\frac{\\sqrt{6} e^{- i \\phi} \\sin{\\left(\\Theta \\right)}}{4 \\sqrt{\\pi}} & \\frac{\\sqrt{3} \\cos{\\left(\\Theta \\right)}}{2 \\sqrt{\\pi}} & - \\frac{\\sqrt{6} e^{i \\phi} \\sin{\\left(\\Theta \\right)}}{4 \\sqrt{\\pi}}\\\\\\hline\n",
       "3 & \\frac{\\sqrt{30} e^{- 2 i \\phi} \\sin^{2}{\\left(\\Theta \\right)}}{8 \\sqrt{\\pi}} & \\frac{\\sqrt{30} e^{- i \\phi} \\sin{\\left(2 \\Theta \\right)}}{8 \\sqrt{\\pi}} & \\frac{\\sqrt{5} \\left(3 \\cos^{2}{\\left(\\Theta \\right)} - 1\\right)}{4 \\sqrt{\\pi}} & - \\frac{\\sqrt{30} e^{i \\phi} \\sin{\\left(2 \\Theta \\right)}}{8 \\sqrt{\\pi}} & \\frac{\\sqrt{30} e^{2 i \\phi} \\sin^{2}{\\left(\\Theta \\right)}}{8 \\sqrt{\\pi}}\\\\\\hline\n",
       "\\end{array}$"
      ],
      "text/plain": [
       "<IPython.core.display.Math object>"
      ]
     },
     "metadata": {},
     "output_type": "display_data"
    }
   ],
   "source": [
    "from sympy import Ynm, simplify, symbols, latex\n",
    "theta, phi = symbols('\\Theta \\phi')\n",
    "from IPython.display import HTML, display, Math, Latex\n",
    "\n",
    "def fmt_table(data,center_data=False,add_row_nums=False):\n",
    "    from math import ceil\n",
    "    buf='''\n",
    "\\\\newcommand\\\\T{\\\\Rule{0pt}{1em}{.3em}}\n",
    "\\\\begin{array}{%s}    \n",
    "'''\n",
    "    max_cols = max(len(r) for r in data)\n",
    "    column_spec = '|' + '|'.join(['c']*max_cols) + '|'\n",
    "    buf = buf % column_spec\n",
    "    row_idx = 0\n",
    "    for row_data in data:\n",
    "        row = ''\n",
    "        if add_row_nums and row_idx > 0:\n",
    "            row += str(row_idx) + \" & \"\n",
    "        if center_data and row_idx > 0:\n",
    "            to_add = ceil( (max_cols - len(row_data))/2 )\n",
    "            row += ' & '.join([''] * to_add)\n",
    "        row += ' & '.join(row_data)\n",
    "        if row_idx == 0:\n",
    "            row = '''\\\\hline''' + row + '''\\\\\\\\\\hline'''\n",
    "        else:\n",
    "            row += '''\\\\\\\\\\hline'''\n",
    "        row += \"\\n\"\n",
    "        buf +=row\n",
    "        row_idx += 1\n",
    "    buf += '''\\\\end{array}'''\n",
    "    # print(buf)\n",
    "    return buf\n",
    "    \n",
    "\n",
    "tbl = []\n",
    "tbl.append(['\\\\texttt{m/l}','-2','-1','0','1','2'])\n",
    "for l in range (0, 3):\n",
    "    new_row = []    \n",
    "    for m in range(-l, l+1):\n",
    "        h = simplify(Ynm(l, m, theta, phi).expand(func=True))\n",
    "        new_row.append(latex(h))\n",
    "    tbl.append(new_row)\n",
    "    \n",
    "\n",
    "display(Math(fmt_table(tbl,add_row_nums=True,center_data=True)))\n"
   ]
  }
 ],
 "metadata": {
  "kernelspec": {
   "display_name": "Python 3",
   "language": "python",
   "name": "python3"
  },
  "language_info": {
   "codemirror_mode": {
    "name": "ipython",
    "version": 3
   },
   "file_extension": ".py",
   "mimetype": "text/x-python",
   "name": "python",
   "nbconvert_exporter": "python",
   "pygments_lexer": "ipython3",
   "version": "3.7.3"
  }
 },
 "nbformat": 4,
 "nbformat_minor": 4
}
