{
 "cells": [
  {
   "cell_type": "code",
   "execution_count": 22,
   "metadata": {},
   "outputs": [
    {
     "data": {
      "text/latex": [
       "$\\displaystyle a d - b c = 1$"
      ],
      "text/plain": [
       "Eq(a*d - b*c, 1)"
      ]
     },
     "metadata": {},
     "output_type": "display_data"
    },
    {
     "data": {
      "text/latex": [
       "$\\displaystyle - 2 c + d = 1$"
      ],
      "text/plain": [
       "Eq(-2*c + d, 1)"
      ]
     },
     "metadata": {},
     "output_type": "display_data"
    },
    {
     "data": {
      "text/latex": [
       "$\\displaystyle \\left( t_{0}, \\  2 t_{0} + 1\\right)$"
      ],
      "text/plain": [
       "(t_0, 2*t_0 + 1)"
      ]
     },
     "metadata": {},
     "output_type": "display_data"
    },
    {
     "name": "stdout",
     "output_type": "stream",
     "text": [
      "===\n"
     ]
    },
    {
     "data": {
      "text/latex": [
       "$\\displaystyle a d - b c = -1$"
      ],
      "text/plain": [
       "Eq(a*d - b*c, -1)"
      ]
     },
     "metadata": {},
     "output_type": "display_data"
    },
    {
     "data": {
      "text/latex": [
       "$\\displaystyle - 2 c + d = -1$"
      ],
      "text/plain": [
       "Eq(-2*c + d, -1)"
      ]
     },
     "metadata": {},
     "output_type": "display_data"
    },
    {
     "data": {
      "text/latex": [
       "$\\displaystyle \\left( t_{0}, \\  2 t_{0} - 1\\right)$"
      ],
      "text/plain": [
       "(t_0, 2*t_0 - 1)"
      ]
     },
     "metadata": {},
     "output_type": "display_data"
    },
    {
     "name": "stdout",
     "output_type": "stream",
     "text": [
      "===\n"
     ]
    }
   ],
   "source": [
    "from sympy import *\n",
    "a,b,c,d = symbols('a b c d', integer=True)\n",
    "A = Matrix([[a,b],[c,d]])\n",
    "\n",
    "def solve_val(val):\n",
    "    D = A.det()\n",
    "    eq = Eq(D,val)\n",
    "    display(eq)\n",
    "    eq1 = eq.subs({a:1,b:2})\n",
    "    display(eq1)\n",
    "    from sympy.solvers.diophantine.diophantine import diop_solve\n",
    "    sol = diop_solve(eq1.lhs - eq1.rhs)\n",
    "    display(sol)\n",
    "    print(\"===\")\n",
    "\n",
    "solve_val(1)\n",
    "solve_val(-1)\n"
   ]
  }
 ],
 "metadata": {
  "kernelspec": {
   "display_name": "Python 3",
   "language": "python",
   "name": "python3"
  },
  "language_info": {
   "codemirror_mode": {
    "name": "ipython",
    "version": 3
   },
   "file_extension": ".py",
   "mimetype": "text/x-python",
   "name": "python",
   "nbconvert_exporter": "python",
   "pygments_lexer": "ipython3",
   "version": "3.7.3"
  }
 },
 "nbformat": 4,
 "nbformat_minor": 4
}
