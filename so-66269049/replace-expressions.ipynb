{
 "cells": [
  {
   "cell_type": "code",
   "execution_count": 2,
   "metadata": {},
   "outputs": [
    {
     "data": {
      "text/latex": [
       "$\\displaystyle \\left[\\begin{matrix}c{\\left(\\theta \\right)} & - s{\\left(\\theta \\right)} & 0 & a\\\\c{\\left(\\alpha \\right)} s{\\left(\\theta \\right)} & c{\\left(\\alpha \\right)} c{\\left(\\theta \\right)} & - s{\\left(\\alpha \\right)} & - d s{\\left(\\alpha \\right)}\\\\s{\\left(\\alpha \\right)} s{\\left(\\theta \\right)} & c{\\left(\\theta \\right)} s{\\left(\\alpha \\right)} & c{\\left(\\alpha \\right)} & d c{\\left(\\alpha \\right)}\\\\0 & 0 & 0 & 1\\end{matrix}\\right]$"
      ],
      "text/plain": [
       "Matrix([\n",
       "[          c(\\theta),          -s(\\theta),          0,            a],\n",
       "[c(\\alpha)*s(\\theta), c(\\alpha)*c(\\theta), -s(\\alpha), -d*s(\\alpha)],\n",
       "[s(\\alpha)*s(\\theta), c(\\theta)*s(\\alpha),  c(\\alpha),  d*c(\\alpha)],\n",
       "[                  0,                   0,          0,            1]])"
      ]
     },
     "metadata": {},
     "output_type": "display_data"
    },
    {
     "data": {
      "text/latex": [
       "$\\displaystyle \\left[\\begin{matrix}c{\\left(\\theta \\right)} & - s{\\left(\\theta \\right)} & 0 & a\\\\c{\\left(\\alpha \\right)} s{\\left(\\theta \\right)} & c{\\left(\\alpha \\right)} c{\\left(\\theta \\right)} & - s{\\left(\\alpha \\right)} & - d s{\\left(\\alpha \\right)}\\\\s{\\left(\\alpha \\right)} s{\\left(\\theta \\right)} & c{\\left(\\theta \\right)} s{\\left(\\alpha \\right)} & c{\\left(\\alpha \\right)} & d c{\\left(\\alpha \\right)}\\\\0 & 0 & 0 & 1\\end{matrix}\\right]$"
      ],
      "text/plain": [
       "Matrix([\n",
       "[          c(\\theta),          -s(\\theta),          0,            a],\n",
       "[c(\\alpha)*s(\\theta), c(\\alpha)*c(\\theta), -s(\\alpha), -d*s(\\alpha)],\n",
       "[s(\\alpha)*s(\\theta), c(\\theta)*s(\\alpha),  c(\\alpha),  d*c(\\alpha)],\n",
       "[                  0,                   0,          0,            1]])"
      ]
     },
     "metadata": {},
     "output_type": "display_data"
    }
   ],
   "source": [
    "import sympy as sym\n",
    "from sympy import *\n",
    "from sympy import sin as s\n",
    "from sympy import cos as c\n",
    "\n",
    "# s,c act as aliases to sin,cos\n",
    "s = sin\n",
    "c = cos\n",
    "\n",
    "# the intended short-hand functions used to replace sin/cos later on\n",
    "s1 = Function('s')\n",
    "c1 = Function('c')\n",
    "\n",
    "a,d,theta,alpha = symbols('a d \\\\theta \\\\alpha')\n",
    "\n",
    "T = Matrix([\n",
    "    [c(theta), -s(theta), 0, a],\n",
    "    [s(theta) * c(alpha), c(theta) * c(alpha), -s(alpha), -s(alpha) * d],\n",
    "    [s(theta) * s(alpha), c(theta) * s(alpha), c(alpha), c(alpha) * d],\n",
    "    [0, 0, 0, 1]\n",
    "])\n",
    "\n",
    "T_1 = T.replace(s,s1).replace(c,c1)\n",
    "T_2 = T.subs({s:s1,c:c1})\n",
    "\n",
    "display(T_1)\n",
    "display(T_2)\n"
   ]
  }
 ],
 "metadata": {
  "kernelspec": {
   "display_name": "Python 3",
   "language": "python",
   "name": "python3"
  },
  "language_info": {
   "codemirror_mode": {
    "name": "ipython",
    "version": 3
   },
   "file_extension": ".py",
   "mimetype": "text/x-python",
   "name": "python",
   "nbconvert_exporter": "python",
   "pygments_lexer": "ipython3",
   "version": "3.7.3"
  }
 },
 "nbformat": 4,
 "nbformat_minor": 4
}
