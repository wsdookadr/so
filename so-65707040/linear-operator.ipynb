{
 "cells": [
  {
   "cell_type": "code",
   "execution_count": 65,
   "metadata": {},
   "outputs": [
    {
     "data": {
      "text/latex": [
       "$\\displaystyle y^{10} \\left(x^{10} + 10 x^{9} + 45 x^{8} + 120 x^{7} + 210 x^{6} + 252 x^{5} + 210 x^{4} + 120 x^{3} + 45 x^{2} + 10 x + 1\\right) + y^{9} \\left(45 x^{9} + 405 x^{8} + 1620 x^{7} + 3780 x^{6} + 5670 x^{5} + 5670 x^{4} + 3780 x^{3} + 1620 x^{2} + 405 x + 45\\right) + y^{8} \\left(750 x^{8} + 6000 x^{7} + 21000 x^{6} + 42000 x^{5} + 52500 x^{4} + 42000 x^{3} + 21000 x^{2} + 6000 x + 750\\right) + y^{7} \\left(5880 x^{7} + 41160 x^{6} + 123480 x^{5} + 205800 x^{4} + 205800 x^{3} + 123480 x^{2} + 41160 x + 5880\\right) + y^{6} \\left(22827 x^{6} + 136962 x^{5} + 342405 x^{4} + 456540 x^{3} + 342405 x^{2} + 136962 x + 22827\\right) + y^{5} \\left(42525 x^{5} + 212625 x^{4} + 425250 x^{3} + 425250 x^{2} + 212625 x + 42525\\right) + y^{4} \\left(34105 x^{4} + 136420 x^{3} + 204630 x^{2} + 136420 x + 34105\\right) + y^{3} \\left(9330 x^{3} + 27990 x^{2} + 27990 x + 9330\\right) + y^{2} \\left(511 x^{2} + 1022 x + 511\\right) + y \\left(x + 1\\right)$"
      ],
      "text/plain": [
       "y**10*(x**10 + 10*x**9 + 45*x**8 + 120*x**7 + 210*x**6 + 252*x**5 + 210*x**4 + 120*x**3 + 45*x**2 + 10*x + 1) + y**9*(45*x**9 + 405*x**8 + 1620*x**7 + 3780*x**6 + 5670*x**5 + 5670*x**4 + 3780*x**3 + 1620*x**2 + 405*x + 45) + y**8*(750*x**8 + 6000*x**7 + 21000*x**6 + 42000*x**5 + 52500*x**4 + 42000*x**3 + 21000*x**2 + 6000*x + 750) + y**7*(5880*x**7 + 41160*x**6 + 123480*x**5 + 205800*x**4 + 205800*x**3 + 123480*x**2 + 41160*x + 5880) + y**6*(22827*x**6 + 136962*x**5 + 342405*x**4 + 456540*x**3 + 342405*x**2 + 136962*x + 22827) + y**5*(42525*x**5 + 212625*x**4 + 425250*x**3 + 425250*x**2 + 212625*x + 42525) + y**4*(34105*x**4 + 136420*x**3 + 204630*x**2 + 136420*x + 34105) + y**3*(9330*x**3 + 27990*x**2 + 27990*x + 9330) + y**2*(511*x**2 + 1022*x + 511) + y*(x + 1)"
      ]
     },
     "metadata": {},
     "output_type": "display_data"
    }
   ],
   "source": [
    "from sympy import *\n",
    "x,y = symbols('x y')\n",
    "f = Function('f')(x)\n",
    "\n",
    "# two linear operators\n",
    "#\n",
    "# A1 corresponds to   Af = xf'\n",
    "# A2 corresponds to   Af = (x+1)f'\n",
    "def A1(f):\n",
    "    return x * f.diff(x,1)\n",
    "\n",
    "def A2(f):\n",
    "    return (x+1) * f.diff(x,1)\n",
    "\n",
    "# C computes the iterated function composition\n",
    "#\n",
    "# ( A o A o ... o A o f)\n",
    "#   \\............../\n",
    "#    n times\n",
    "#\n",
    "def C(A,f,n):\n",
    "    res = f\n",
    "    for i in range(n):\n",
    "        res = expand(A(res))\n",
    "    return res\n",
    "\n",
    "# convert f(x) (d/dx)^k -> y^k\n",
    "#\n",
    "# this function just searches for all derivatives f^(k)(x) and replaces them with y**k.\n",
    "# the resulting expression is easier to handle in subsequent transformations.\n",
    "def T(A):\n",
    "    res = A\n",
    "    if isinstance(A,Add):\n",
    "        for u in A.args:\n",
    "            u1 = u.args\n",
    "            for i1 in range(len(u1)):\n",
    "                if isinstance(u1[i1],Derivative):\n",
    "                    u2 = u1[i1].args\n",
    "                    if u2[0]==f:\n",
    "                        k = u2[1][1]\n",
    "                        res = res.replace(f.diff(x,k),y**k)\n",
    "    elif isinstance(A,Mul):\n",
    "        res = T(A+1)-1\n",
    "    return collect(res,y)\n",
    "\n",
    "c1 = C(A2,f,10)\n",
    "display(T(c1))\n"
   ]
  }
 ],
 "metadata": {
  "kernelspec": {
   "display_name": "Python 3",
   "language": "python",
   "name": "python3"
  },
  "language_info": {
   "codemirror_mode": {
    "name": "ipython",
    "version": 3
   },
   "file_extension": ".py",
   "mimetype": "text/x-python",
   "name": "python",
   "nbconvert_exporter": "python",
   "pygments_lexer": "ipython3",
   "version": "3.7.3"
  }
 },
 "nbformat": 4,
 "nbformat_minor": 4
}
