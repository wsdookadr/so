{
 "cells": [
  {
   "cell_type": "code",
   "execution_count": 108,
   "metadata": {},
   "outputs": [
    {
     "data": {
      "text/latex": [
       "$\\displaystyle f{\\left(x \\right)}$"
      ],
      "text/plain": [
       "f(x)"
      ]
     },
     "metadata": {},
     "output_type": "display_data"
    },
    {
     "name": "stdout",
     "output_type": "stream",
     "text": [
      "---\n"
     ]
    },
    {
     "data": {
      "text/latex": [
       "$\\displaystyle y \\left(x + 1\\right)$"
      ],
      "text/plain": [
       "y*(x + 1)"
      ]
     },
     "metadata": {},
     "output_type": "display_data"
    },
    {
     "name": "stdout",
     "output_type": "stream",
     "text": [
      "---\n"
     ]
    },
    {
     "data": {
      "text/latex": [
       "$\\displaystyle y^{2} \\left(x^{2} + 2 x + 1\\right) + y \\left(x + 1\\right)$"
      ],
      "text/plain": [
       "y**2*(x**2 + 2*x + 1) + y*(x + 1)"
      ]
     },
     "metadata": {},
     "output_type": "display_data"
    },
    {
     "name": "stdout",
     "output_type": "stream",
     "text": [
      "---\n"
     ]
    },
    {
     "data": {
      "text/latex": [
       "$\\displaystyle y^{3} \\left(x^{3} + 3 x^{2} + 3 x + 1\\right) + y^{2} \\left(3 x^{2} + 6 x + 3\\right) + y \\left(x + 1\\right)$"
      ],
      "text/plain": [
       "y**3*(x**3 + 3*x**2 + 3*x + 1) + y**2*(3*x**2 + 6*x + 3) + y*(x + 1)"
      ]
     },
     "metadata": {},
     "output_type": "display_data"
    },
    {
     "name": "stdout",
     "output_type": "stream",
     "text": [
      "---\n"
     ]
    },
    {
     "data": {
      "text/latex": [
       "$\\displaystyle y^{4} \\left(x^{4} + 4 x^{3} + 6 x^{2} + 4 x + 1\\right) + y^{3} \\left(6 x^{3} + 18 x^{2} + 18 x + 6\\right) + y^{2} \\left(7 x^{2} + 14 x + 7\\right) + y \\left(x + 1\\right)$"
      ],
      "text/plain": [
       "y**4*(x**4 + 4*x**3 + 6*x**2 + 4*x + 1) + y**3*(6*x**3 + 18*x**2 + 18*x + 6) + y**2*(7*x**2 + 14*x + 7) + y*(x + 1)"
      ]
     },
     "metadata": {},
     "output_type": "display_data"
    },
    {
     "name": "stdout",
     "output_type": "stream",
     "text": [
      "---\n"
     ]
    },
    {
     "data": {
      "text/latex": [
       "$\\displaystyle y^{5} \\left(x^{5} + 5 x^{4} + 10 x^{3} + 10 x^{2} + 5 x + 1\\right) + y^{4} \\left(10 x^{4} + 40 x^{3} + 60 x^{2} + 40 x + 10\\right) + y^{3} \\left(25 x^{3} + 75 x^{2} + 75 x + 25\\right) + y^{2} \\left(15 x^{2} + 30 x + 15\\right) + y \\left(x + 1\\right)$"
      ],
      "text/plain": [
       "y**5*(x**5 + 5*x**4 + 10*x**3 + 10*x**2 + 5*x + 1) + y**4*(10*x**4 + 40*x**3 + 60*x**2 + 40*x + 10) + y**3*(25*x**3 + 75*x**2 + 75*x + 25) + y**2*(15*x**2 + 30*x + 15) + y*(x + 1)"
      ]
     },
     "metadata": {},
     "output_type": "display_data"
    },
    {
     "name": "stdout",
     "output_type": "stream",
     "text": [
      "---\n"
     ]
    },
    {
     "data": {
      "text/latex": [
       "$\\displaystyle y^{6} \\left(x^{6} + 6 x^{5} + 15 x^{4} + 20 x^{3} + 15 x^{2} + 6 x + 1\\right) + y^{5} \\left(15 x^{5} + 75 x^{4} + 150 x^{3} + 150 x^{2} + 75 x + 15\\right) + y^{4} \\left(65 x^{4} + 260 x^{3} + 390 x^{2} + 260 x + 65\\right) + y^{3} \\left(90 x^{3} + 270 x^{2} + 270 x + 90\\right) + y^{2} \\left(31 x^{2} + 62 x + 31\\right) + y \\left(x + 1\\right)$"
      ],
      "text/plain": [
       "y**6*(x**6 + 6*x**5 + 15*x**4 + 20*x**3 + 15*x**2 + 6*x + 1) + y**5*(15*x**5 + 75*x**4 + 150*x**3 + 150*x**2 + 75*x + 15) + y**4*(65*x**4 + 260*x**3 + 390*x**2 + 260*x + 65) + y**3*(90*x**3 + 270*x**2 + 270*x + 90) + y**2*(31*x**2 + 62*x + 31) + y*(x + 1)"
      ]
     },
     "metadata": {},
     "output_type": "display_data"
    },
    {
     "name": "stdout",
     "output_type": "stream",
     "text": [
      "---\n"
     ]
    },
    {
     "data": {
      "text/latex": [
       "$\\displaystyle y^{7} \\left(x^{7} + 7 x^{6} + 21 x^{5} + 35 x^{4} + 35 x^{3} + 21 x^{2} + 7 x + 1\\right) + y^{6} \\left(21 x^{6} + 126 x^{5} + 315 x^{4} + 420 x^{3} + 315 x^{2} + 126 x + 21\\right) + y^{5} \\left(140 x^{5} + 700 x^{4} + 1400 x^{3} + 1400 x^{2} + 700 x + 140\\right) + y^{4} \\left(350 x^{4} + 1400 x^{3} + 2100 x^{2} + 1400 x + 350\\right) + y^{3} \\left(301 x^{3} + 903 x^{2} + 903 x + 301\\right) + y^{2} \\left(63 x^{2} + 126 x + 63\\right) + y \\left(x + 1\\right)$"
      ],
      "text/plain": [
       "y**7*(x**7 + 7*x**6 + 21*x**5 + 35*x**4 + 35*x**3 + 21*x**2 + 7*x + 1) + y**6*(21*x**6 + 126*x**5 + 315*x**4 + 420*x**3 + 315*x**2 + 126*x + 21) + y**5*(140*x**5 + 700*x**4 + 1400*x**3 + 1400*x**2 + 700*x + 140) + y**4*(350*x**4 + 1400*x**3 + 2100*x**2 + 1400*x + 350) + y**3*(301*x**3 + 903*x**2 + 903*x + 301) + y**2*(63*x**2 + 126*x + 63) + y*(x + 1)"
      ]
     },
     "metadata": {},
     "output_type": "display_data"
    },
    {
     "name": "stdout",
     "output_type": "stream",
     "text": [
      "---\n"
     ]
    }
   ],
   "source": [
    "from sympy import *\n",
    "x,y = symbols('x y')\n",
    "f = Function('f')(x)\n",
    "\n",
    "# two linear operators\n",
    "#\n",
    "# A1 corresponds to   Af = xf'\n",
    "# A2 corresponds to   Af = (x+1)f'\n",
    "def A1(f):\n",
    "    return x * f.diff(x,1)\n",
    "\n",
    "def A2(f):\n",
    "    return (x+1) * f.diff(x,1)\n",
    "\n",
    "# C computes the iterated function composition\n",
    "#\n",
    "# ( A o A o ... o A o f)\n",
    "#   \\............../\n",
    "#    n times\n",
    "#\n",
    "def C(A,f,n):\n",
    "    res = f\n",
    "    for i in range(n):\n",
    "        res = expand(A(res))\n",
    "    return res\n",
    "\n",
    "# convert f(x) (d/dx)^k -> y^k\n",
    "#\n",
    "# this function just searches for all derivatives f^(k)(x) and replaces them with y**k.\n",
    "# the resulting expression is easier to read and handle.\n",
    "def T(A):\n",
    "    res = A\n",
    "    if isinstance(A,Add):\n",
    "        for u in A.args:\n",
    "            u1 = u.args\n",
    "            for i1 in range(len(u1)):\n",
    "                if isinstance(u1[i1],Derivative):\n",
    "                    u2 = u1[i1].args\n",
    "                    if u2[0]==f:\n",
    "                        k = u2[1][1]\n",
    "                        res = res.replace(f.diff(x,k),y**k)\n",
    "    elif isinstance(A,Mul):\n",
    "        # in this branch we only have one term\n",
    "        # the +1-1 helps to reuse the Add branch\n",
    "        res = T(A+1)-1\n",
    "    return collect(res,y)\n",
    "\n",
    "\n",
    "for n in range(8):\n",
    "    An = C(A2,f,n)\n",
    "    display(T(An))\n",
    "    print(\"---\")\n"
   ]
  }
 ],
 "metadata": {
  "kernelspec": {
   "display_name": "Python 3",
   "language": "python",
   "name": "python3"
  },
  "language_info": {
   "codemirror_mode": {
    "name": "ipython",
    "version": 3
   },
   "file_extension": ".py",
   "mimetype": "text/x-python",
   "name": "python",
   "nbconvert_exporter": "python",
   "pygments_lexer": "ipython3",
   "version": "3.7.3"
  }
 },
 "nbformat": 4,
 "nbformat_minor": 4
}
