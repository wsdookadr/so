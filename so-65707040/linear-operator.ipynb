{
 "cells": [
  {
   "cell_type": "code",
   "execution_count": 111,
   "metadata": {},
   "outputs": [
    {
     "name": "stdout",
     "output_type": "stream",
     "text": [
      "A1 case\n",
      "f(1)\n",
      "1\n",
      "2\n",
      "5\n",
      "15\n",
      "52\n",
      "203\n",
      "877\n",
      "A2 case\n",
      "f(1)\n",
      "2\n",
      "6\n",
      "22\n",
      "94\n",
      "454\n",
      "2430\n",
      "14214\n"
     ]
    }
   ],
   "source": [
    "from sympy import *\n",
    "x,y = symbols('x y')\n",
    "f = Function('f')(x)\n",
    "\n",
    "# two linear operators\n",
    "#\n",
    "# A1 corresponds to   Af = xf'\n",
    "# A2 corresponds to   Af = (x+1)f'\n",
    "def A1(f):\n",
    "    return x * f.diff(x,1)\n",
    "\n",
    "def A2(f):\n",
    "    return (x+1) * f.diff(x,1)\n",
    "\n",
    "# C computes the iterated function composition\n",
    "#\n",
    "# ( A o A o ... o A o f)\n",
    "#   \\............../\n",
    "#    n times\n",
    "#\n",
    "def C(A,f,n):\n",
    "    res = f\n",
    "    for i in range(n):\n",
    "        res = expand(A(res))\n",
    "    return res\n",
    "\n",
    "# convert f(x) (d/dx)^k -> y^k\n",
    "#\n",
    "# this function just searches for all derivatives f^(k)(x) and replaces them with y**k.\n",
    "# the resulting expression is easier to read and handle.\n",
    "def T(A):\n",
    "    res = A\n",
    "    if isinstance(A,Add):\n",
    "        for u in A.args:\n",
    "            u1 = u.args\n",
    "            for i1 in range(len(u1)):\n",
    "                if isinstance(u1[i1],Derivative):\n",
    "                    u2 = u1[i1].args\n",
    "                    if u2[0]==f:\n",
    "                        k = u2[1][1]\n",
    "                        res = res.replace(f.diff(x,k),y**k)\n",
    "    elif isinstance(A,Mul):\n",
    "        # in this branch we only have one term\n",
    "        # the +1-1 helps to reuse the Add branch\n",
    "        res = T(A+1)-1\n",
    "    return collect(res,y)\n",
    "\n",
    "\n",
    "print(\"A1 case\")\n",
    "for n in range(8):\n",
    "    An = C(A1,f,n)\n",
    "    TAn = T(An)\n",
    "    s = TAn.subs({x:1,y:1})\n",
    "    print(s)\n",
    "\n",
    "print(\"A2 case\")\n",
    "for n in range(8):\n",
    "    An = C(A2,f,n)\n",
    "    TAn = T(An)\n",
    "    s = TAn.subs({x:1,y:1})\n",
    "    print(s)\n"
   ]
  }
 ],
 "metadata": {
  "kernelspec": {
   "display_name": "Python 3",
   "language": "python",
   "name": "python3"
  },
  "language_info": {
   "codemirror_mode": {
    "name": "ipython",
    "version": 3
   },
   "file_extension": ".py",
   "mimetype": "text/x-python",
   "name": "python",
   "nbconvert_exporter": "python",
   "pygments_lexer": "ipython3",
   "version": "3.7.3"
  }
 },
 "nbformat": 4,
 "nbformat_minor": 4
}
