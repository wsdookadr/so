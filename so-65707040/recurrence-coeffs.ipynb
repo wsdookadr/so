{
 "cells": [
  {
   "cell_type": "code",
   "execution_count": 40,
   "metadata": {},
   "outputs": [
    {
     "data": {
      "text/latex": [
       "$\\displaystyle c{\\left(i,j,x \\right)} = \\left(x + 1\\right) c{\\left(i - 1,j - 1,x \\right)} + \\left(x + 1\\right) \\frac{d}{d x} c{\\left(i - 1,j,x \\right)} + \\left(x^{2} + x + 1\\right) c{\\left(i - 1,j - 2,x \\right)} + \\left(x^{2} + x + 1\\right) \\frac{d^{2}}{d x^{2}} c{\\left(i - 1,j,x \\right)} + \\left(2 x^{2} + 2 x + 2\\right) \\frac{d}{d x} c{\\left(i - 1,j,x \\right)}$"
      ],
      "text/plain": [
       "Eq(c(i, j, x), (x + 1)*c(i - 1, j - 1, x) + (x + 1)*Derivative(c(i - 1, j, x), x) + (x**2 + x + 1)*c(i - 1, j - 2, x) + (x**2 + x + 1)*Derivative(c(i - 1, j, x), (x, 2)) + (2*x**2 + 2*x + 2)*Derivative(c(i - 1, j, x), x))"
      ]
     },
     "metadata": {},
     "output_type": "display_data"
    },
    {
     "name": "stdout",
     "output_type": "stream",
     "text": [
      "---\n"
     ]
    },
    {
     "data": {
      "text/latex": [
       "$\\displaystyle c{\\left(i,j,x \\right)} = \\left(x + 1\\right) \\sum_{k_{1}=0}^{j} x^{k_{1}} u{\\left(i - 1,j - 1,k_{1} \\right)} + \\left(x + 1\\right) \\sum_{k_{1}=1}^{j + 1} k_{1} x^{k_{1} - 1} u{\\left(i - 1,j,k_{1} \\right)} + \\left(x^{2} + x + 1\\right) \\sum_{k_{1}=0}^{j - 1} x^{k_{1}} u{\\left(i - 1,j - 2,k_{1} \\right)} + \\left(x^{2} + x + 1\\right) \\sum_{k_{1}=2}^{j + 1} k_{1} x^{k_{1} - 2} \\left(k_{1} - 1\\right) u{\\left(i - 1,j,k_{1} \\right)} + \\left(2 x^{2} + 2 x + 2\\right) \\sum_{k_{1}=1}^{j} k_{1} x^{k_{1} - 1} u{\\left(i - 1,j - 1,k_{1} \\right)}$"
      ],
      "text/plain": [
       "Eq(c(i, j, x), (x + 1)*Sum(x**k1*u(i - 1, j - 1, k1), (k1, 0, j)) + (x + 1)*Sum(k1*x**(k1 - 1)*u(i - 1, j, k1), (k1, 1, j + 1)) + (x**2 + x + 1)*Sum(x**k1*u(i - 1, j - 2, k1), (k1, 0, j - 1)) + (x**2 + x + 1)*Sum(k1*x**(k1 - 2)*(k1 - 1)*u(i - 1, j, k1), (k1, 2, j + 1)) + (2*x**2 + 2*x + 2)*Sum(k1*x**(k1 - 1)*u(i - 1, j - 1, k1), (k1, 1, j)))"
      ]
     },
     "metadata": {},
     "output_type": "display_data"
    },
    {
     "name": "stdout",
     "output_type": "stream",
     "text": [
      "---\n"
     ]
    },
    {
     "data": {
      "text/latex": [
       "$\\displaystyle \\sum_{k_{1}=0}^{j + 1} x^{k_{1}} u{\\left(i,j,k_{1} \\right)} = \\left(x + 1\\right) \\sum_{k_{1}=0}^{j} x^{k_{1}} u{\\left(i - 1,j - 1,k_{1} \\right)} + \\left(x + 1\\right) \\sum_{k_{1}=1}^{j + 1} k_{1} x^{k_{1} - 1} u{\\left(i - 1,j,k_{1} \\right)} + \\left(x^{2} + x + 1\\right) \\sum_{k_{1}=0}^{j - 1} x^{k_{1}} u{\\left(i - 1,j - 2,k_{1} \\right)} + \\left(x^{2} + x + 1\\right) \\sum_{k_{1}=2}^{j + 1} k_{1} x^{k_{1} - 2} \\left(k_{1} - 1\\right) u{\\left(i - 1,j,k_{1} \\right)} + \\left(2 x^{2} + 2 x + 2\\right) \\sum_{k_{1}=1}^{j} k_{1} x^{k_{1} - 1} u{\\left(i - 1,j - 1,k_{1} \\right)}$"
      ],
      "text/plain": [
       "Eq(Sum(x**k1*u(i, j, k1), (k1, 0, j + 1)), (x + 1)*Sum(x**k1*u(i - 1, j - 1, k1), (k1, 0, j)) + (x + 1)*Sum(k1*x**(k1 - 1)*u(i - 1, j, k1), (k1, 1, j + 1)) + (x**2 + x + 1)*Sum(x**k1*u(i - 1, j - 2, k1), (k1, 0, j - 1)) + (x**2 + x + 1)*Sum(k1*x**(k1 - 2)*(k1 - 1)*u(i - 1, j, k1), (k1, 2, j + 1)) + (2*x**2 + 2*x + 2)*Sum(k1*x**(k1 - 1)*u(i - 1, j - 1, k1), (k1, 1, j)))"
      ]
     },
     "metadata": {},
     "output_type": "display_data"
    },
    {
     "name": "stdout",
     "output_type": "stream",
     "text": [
      "---\n"
     ]
    },
    {
     "data": {
      "text/latex": [
       "$\\displaystyle u{\\left(4,4,0 \\right)} = u{\\left(3,2,0 \\right)} + u{\\left(3,3,0 \\right)} + 2 u{\\left(3,3,1 \\right)} + u{\\left(3,4,1 \\right)} + 2 u{\\left(3,4,2 \\right)}$"
      ],
      "text/plain": [
       "Eq(u(4, 4, 0), u(3, 2, 0) + u(3, 3, 0) + 2*u(3, 3, 1) + u(3, 4, 1) + 2*u(3, 4, 2))"
      ]
     },
     "metadata": {},
     "output_type": "display_data"
    },
    {
     "data": {
      "text/latex": [
       "$\\displaystyle u{\\left(4,4,1 \\right)} = u{\\left(3,2,0 \\right)} + u{\\left(3,2,1 \\right)} + u{\\left(3,3,0 \\right)} + 3 u{\\left(3,3,1 \\right)} + 4 u{\\left(3,3,2 \\right)} + u{\\left(3,4,1 \\right)} + 4 u{\\left(3,4,2 \\right)} + 6 u{\\left(3,4,3 \\right)}$"
      ],
      "text/plain": [
       "Eq(u(4, 4, 1), u(3, 2, 0) + u(3, 2, 1) + u(3, 3, 0) + 3*u(3, 3, 1) + 4*u(3, 3, 2) + u(3, 4, 1) + 4*u(3, 4, 2) + 6*u(3, 4, 3))"
      ]
     },
     "metadata": {},
     "output_type": "display_data"
    },
    {
     "data": {
      "text/latex": [
       "$\\displaystyle u{\\left(4,4,2 \\right)} = u{\\left(3,2,0 \\right)} + u{\\left(3,2,1 \\right)} + u{\\left(3,2,2 \\right)} + 3 u{\\left(3,3,1 \\right)} + 5 u{\\left(3,3,2 \\right)} + 6 u{\\left(3,3,3 \\right)} + 4 u{\\left(3,4,2 \\right)} + 9 u{\\left(3,4,3 \\right)} + 12 u{\\left(3,4,4 \\right)}$"
      ],
      "text/plain": [
       "Eq(u(4, 4, 2), u(3, 2, 0) + u(3, 2, 1) + u(3, 2, 2) + 3*u(3, 3, 1) + 5*u(3, 3, 2) + 6*u(3, 3, 3) + 4*u(3, 4, 2) + 9*u(3, 4, 3) + 12*u(3, 4, 4))"
      ]
     },
     "metadata": {},
     "output_type": "display_data"
    },
    {
     "data": {
      "text/latex": [
       "$\\displaystyle u{\\left(4,4,3 \\right)} = u{\\left(3,2,1 \\right)} + u{\\left(3,2,2 \\right)} + u{\\left(3,2,3 \\right)} + 5 u{\\left(3,3,2 \\right)} + 7 u{\\left(3,3,3 \\right)} + 8 u{\\left(3,3,4 \\right)} + 9 u{\\left(3,4,3 \\right)} + 16 u{\\left(3,4,4 \\right)} + 20 u{\\left(3,4,5 \\right)}$"
      ],
      "text/plain": [
       "Eq(u(4, 4, 3), u(3, 2, 1) + u(3, 2, 2) + u(3, 2, 3) + 5*u(3, 3, 2) + 7*u(3, 3, 3) + 8*u(3, 3, 4) + 9*u(3, 4, 3) + 16*u(3, 4, 4) + 20*u(3, 4, 5))"
      ]
     },
     "metadata": {},
     "output_type": "display_data"
    },
    {
     "data": {
      "text/latex": [
       "$\\displaystyle u{\\left(4,4,4 \\right)} = u{\\left(3,2,2 \\right)} + u{\\left(3,2,3 \\right)} + 7 u{\\left(3,3,3 \\right)} + 9 u{\\left(3,3,4 \\right)} + 16 u{\\left(3,4,4 \\right)} + 25 u{\\left(3,4,5 \\right)}$"
      ],
      "text/plain": [
       "Eq(u(4, 4, 4), u(3, 2, 2) + u(3, 2, 3) + 7*u(3, 3, 3) + 9*u(3, 3, 4) + 16*u(3, 4, 4) + 25*u(3, 4, 5))"
      ]
     },
     "metadata": {},
     "output_type": "display_data"
    },
    {
     "data": {
      "text/latex": [
       "$\\displaystyle u{\\left(4,4,5 \\right)} = u{\\left(3,2,3 \\right)} + 9 u{\\left(3,3,4 \\right)} + 25 u{\\left(3,4,5 \\right)}$"
      ],
      "text/plain": [
       "Eq(u(4, 4, 5), u(3, 2, 3) + 9*u(3, 3, 4) + 25*u(3, 4, 5))"
      ]
     },
     "metadata": {},
     "output_type": "display_data"
    },
    {
     "name": "stdout",
     "output_type": "stream",
     "text": [
      "---\n"
     ]
    },
    {
     "data": {
      "text/latex": [
       "$\\displaystyle u{\\left(4,5,0 \\right)} = u{\\left(3,3,0 \\right)} + u{\\left(3,4,0 \\right)} + 2 u{\\left(3,4,1 \\right)} + u{\\left(3,5,1 \\right)} + 2 u{\\left(3,5,2 \\right)}$"
      ],
      "text/plain": [
       "Eq(u(4, 5, 0), u(3, 3, 0) + u(3, 4, 0) + 2*u(3, 4, 1) + u(3, 5, 1) + 2*u(3, 5, 2))"
      ]
     },
     "metadata": {},
     "output_type": "display_data"
    },
    {
     "data": {
      "text/latex": [
       "$\\displaystyle u{\\left(4,5,1 \\right)} = u{\\left(3,3,0 \\right)} + u{\\left(3,3,1 \\right)} + u{\\left(3,4,0 \\right)} + 3 u{\\left(3,4,1 \\right)} + 4 u{\\left(3,4,2 \\right)} + u{\\left(3,5,1 \\right)} + 4 u{\\left(3,5,2 \\right)} + 6 u{\\left(3,5,3 \\right)}$"
      ],
      "text/plain": [
       "Eq(u(4, 5, 1), u(3, 3, 0) + u(3, 3, 1) + u(3, 4, 0) + 3*u(3, 4, 1) + 4*u(3, 4, 2) + u(3, 5, 1) + 4*u(3, 5, 2) + 6*u(3, 5, 3))"
      ]
     },
     "metadata": {},
     "output_type": "display_data"
    },
    {
     "data": {
      "text/latex": [
       "$\\displaystyle u{\\left(4,5,2 \\right)} = u{\\left(3,3,0 \\right)} + u{\\left(3,3,1 \\right)} + u{\\left(3,3,2 \\right)} + 3 u{\\left(3,4,1 \\right)} + 5 u{\\left(3,4,2 \\right)} + 6 u{\\left(3,4,3 \\right)} + 4 u{\\left(3,5,2 \\right)} + 9 u{\\left(3,5,3 \\right)} + 12 u{\\left(3,5,4 \\right)}$"
      ],
      "text/plain": [
       "Eq(u(4, 5, 2), u(3, 3, 0) + u(3, 3, 1) + u(3, 3, 2) + 3*u(3, 4, 1) + 5*u(3, 4, 2) + 6*u(3, 4, 3) + 4*u(3, 5, 2) + 9*u(3, 5, 3) + 12*u(3, 5, 4))"
      ]
     },
     "metadata": {},
     "output_type": "display_data"
    },
    {
     "data": {
      "text/latex": [
       "$\\displaystyle u{\\left(4,5,3 \\right)} = u{\\left(3,3,1 \\right)} + u{\\left(3,3,2 \\right)} + u{\\left(3,3,3 \\right)} + 5 u{\\left(3,4,2 \\right)} + 7 u{\\left(3,4,3 \\right)} + 8 u{\\left(3,4,4 \\right)} + 9 u{\\left(3,5,3 \\right)} + 16 u{\\left(3,5,4 \\right)} + 20 u{\\left(3,5,5 \\right)}$"
      ],
      "text/plain": [
       "Eq(u(4, 5, 3), u(3, 3, 1) + u(3, 3, 2) + u(3, 3, 3) + 5*u(3, 4, 2) + 7*u(3, 4, 3) + 8*u(3, 4, 4) + 9*u(3, 5, 3) + 16*u(3, 5, 4) + 20*u(3, 5, 5))"
      ]
     },
     "metadata": {},
     "output_type": "display_data"
    },
    {
     "data": {
      "text/latex": [
       "$\\displaystyle u{\\left(4,5,4 \\right)} = u{\\left(3,3,2 \\right)} + u{\\left(3,3,3 \\right)} + u{\\left(3,3,4 \\right)} + 7 u{\\left(3,4,3 \\right)} + 9 u{\\left(3,4,4 \\right)} + 10 u{\\left(3,4,5 \\right)} + 16 u{\\left(3,5,4 \\right)} + 25 u{\\left(3,5,5 \\right)} + 30 u{\\left(3,5,6 \\right)}$"
      ],
      "text/plain": [
       "Eq(u(4, 5, 4), u(3, 3, 2) + u(3, 3, 3) + u(3, 3, 4) + 7*u(3, 4, 3) + 9*u(3, 4, 4) + 10*u(3, 4, 5) + 16*u(3, 5, 4) + 25*u(3, 5, 5) + 30*u(3, 5, 6))"
      ]
     },
     "metadata": {},
     "output_type": "display_data"
    },
    {
     "data": {
      "text/latex": [
       "$\\displaystyle u{\\left(4,5,5 \\right)} = u{\\left(3,3,3 \\right)} + u{\\left(3,3,4 \\right)} + 9 u{\\left(3,4,4 \\right)} + 11 u{\\left(3,4,5 \\right)} + 25 u{\\left(3,5,5 \\right)} + 36 u{\\left(3,5,6 \\right)}$"
      ],
      "text/plain": [
       "Eq(u(4, 5, 5), u(3, 3, 3) + u(3, 3, 4) + 9*u(3, 4, 4) + 11*u(3, 4, 5) + 25*u(3, 5, 5) + 36*u(3, 5, 6))"
      ]
     },
     "metadata": {},
     "output_type": "display_data"
    },
    {
     "data": {
      "text/latex": [
       "$\\displaystyle u{\\left(4,5,6 \\right)} = u{\\left(3,3,4 \\right)} + 11 u{\\left(3,4,5 \\right)} + 36 u{\\left(3,5,6 \\right)}$"
      ],
      "text/plain": [
       "Eq(u(4, 5, 6), u(3, 3, 4) + 11*u(3, 4, 5) + 36*u(3, 5, 6))"
      ]
     },
     "metadata": {},
     "output_type": "display_data"
    },
    {
     "name": "stdout",
     "output_type": "stream",
     "text": [
      "---\n"
     ]
    },
    {
     "data": {
      "text/latex": [
       "$\\displaystyle u{\\left(4,6,0 \\right)} = u{\\left(3,4,0 \\right)} + u{\\left(3,5,0 \\right)} + 2 u{\\left(3,5,1 \\right)} + u{\\left(3,6,1 \\right)} + 2 u{\\left(3,6,2 \\right)}$"
      ],
      "text/plain": [
       "Eq(u(4, 6, 0), u(3, 4, 0) + u(3, 5, 0) + 2*u(3, 5, 1) + u(3, 6, 1) + 2*u(3, 6, 2))"
      ]
     },
     "metadata": {},
     "output_type": "display_data"
    },
    {
     "data": {
      "text/latex": [
       "$\\displaystyle u{\\left(4,6,1 \\right)} = u{\\left(3,4,0 \\right)} + u{\\left(3,4,1 \\right)} + u{\\left(3,5,0 \\right)} + 3 u{\\left(3,5,1 \\right)} + 4 u{\\left(3,5,2 \\right)} + u{\\left(3,6,1 \\right)} + 4 u{\\left(3,6,2 \\right)} + 6 u{\\left(3,6,3 \\right)}$"
      ],
      "text/plain": [
       "Eq(u(4, 6, 1), u(3, 4, 0) + u(3, 4, 1) + u(3, 5, 0) + 3*u(3, 5, 1) + 4*u(3, 5, 2) + u(3, 6, 1) + 4*u(3, 6, 2) + 6*u(3, 6, 3))"
      ]
     },
     "metadata": {},
     "output_type": "display_data"
    },
    {
     "data": {
      "text/latex": [
       "$\\displaystyle u{\\left(4,6,2 \\right)} = u{\\left(3,4,0 \\right)} + u{\\left(3,4,1 \\right)} + u{\\left(3,4,2 \\right)} + 3 u{\\left(3,5,1 \\right)} + 5 u{\\left(3,5,2 \\right)} + 6 u{\\left(3,5,3 \\right)} + 4 u{\\left(3,6,2 \\right)} + 9 u{\\left(3,6,3 \\right)} + 12 u{\\left(3,6,4 \\right)}$"
      ],
      "text/plain": [
       "Eq(u(4, 6, 2), u(3, 4, 0) + u(3, 4, 1) + u(3, 4, 2) + 3*u(3, 5, 1) + 5*u(3, 5, 2) + 6*u(3, 5, 3) + 4*u(3, 6, 2) + 9*u(3, 6, 3) + 12*u(3, 6, 4))"
      ]
     },
     "metadata": {},
     "output_type": "display_data"
    },
    {
     "data": {
      "text/latex": [
       "$\\displaystyle u{\\left(4,6,3 \\right)} = u{\\left(3,4,1 \\right)} + u{\\left(3,4,2 \\right)} + u{\\left(3,4,3 \\right)} + 5 u{\\left(3,5,2 \\right)} + 7 u{\\left(3,5,3 \\right)} + 8 u{\\left(3,5,4 \\right)} + 9 u{\\left(3,6,3 \\right)} + 16 u{\\left(3,6,4 \\right)} + 20 u{\\left(3,6,5 \\right)}$"
      ],
      "text/plain": [
       "Eq(u(4, 6, 3), u(3, 4, 1) + u(3, 4, 2) + u(3, 4, 3) + 5*u(3, 5, 2) + 7*u(3, 5, 3) + 8*u(3, 5, 4) + 9*u(3, 6, 3) + 16*u(3, 6, 4) + 20*u(3, 6, 5))"
      ]
     },
     "metadata": {},
     "output_type": "display_data"
    },
    {
     "data": {
      "text/latex": [
       "$\\displaystyle u{\\left(4,6,4 \\right)} = u{\\left(3,4,2 \\right)} + u{\\left(3,4,3 \\right)} + u{\\left(3,4,4 \\right)} + 7 u{\\left(3,5,3 \\right)} + 9 u{\\left(3,5,4 \\right)} + 10 u{\\left(3,5,5 \\right)} + 16 u{\\left(3,6,4 \\right)} + 25 u{\\left(3,6,5 \\right)} + 30 u{\\left(3,6,6 \\right)}$"
      ],
      "text/plain": [
       "Eq(u(4, 6, 4), u(3, 4, 2) + u(3, 4, 3) + u(3, 4, 4) + 7*u(3, 5, 3) + 9*u(3, 5, 4) + 10*u(3, 5, 5) + 16*u(3, 6, 4) + 25*u(3, 6, 5) + 30*u(3, 6, 6))"
      ]
     },
     "metadata": {},
     "output_type": "display_data"
    },
    {
     "data": {
      "text/latex": [
       "$\\displaystyle u{\\left(4,6,5 \\right)} = u{\\left(3,4,3 \\right)} + u{\\left(3,4,4 \\right)} + u{\\left(3,4,5 \\right)} + 9 u{\\left(3,5,4 \\right)} + 11 u{\\left(3,5,5 \\right)} + 12 u{\\left(3,5,6 \\right)} + 25 u{\\left(3,6,5 \\right)} + 36 u{\\left(3,6,6 \\right)} + 42 u{\\left(3,6,7 \\right)}$"
      ],
      "text/plain": [
       "Eq(u(4, 6, 5), u(3, 4, 3) + u(3, 4, 4) + u(3, 4, 5) + 9*u(3, 5, 4) + 11*u(3, 5, 5) + 12*u(3, 5, 6) + 25*u(3, 6, 5) + 36*u(3, 6, 6) + 42*u(3, 6, 7))"
      ]
     },
     "metadata": {},
     "output_type": "display_data"
    },
    {
     "data": {
      "text/latex": [
       "$\\displaystyle u{\\left(4,6,6 \\right)} = u{\\left(3,4,4 \\right)} + u{\\left(3,4,5 \\right)} + 11 u{\\left(3,5,5 \\right)} + 13 u{\\left(3,5,6 \\right)} + 36 u{\\left(3,6,6 \\right)} + 49 u{\\left(3,6,7 \\right)}$"
      ],
      "text/plain": [
       "Eq(u(4, 6, 6), u(3, 4, 4) + u(3, 4, 5) + 11*u(3, 5, 5) + 13*u(3, 5, 6) + 36*u(3, 6, 6) + 49*u(3, 6, 7))"
      ]
     },
     "metadata": {},
     "output_type": "display_data"
    },
    {
     "data": {
      "text/latex": [
       "$\\displaystyle u{\\left(4,6,7 \\right)} = u{\\left(3,4,5 \\right)} + 13 u{\\left(3,5,6 \\right)} + 49 u{\\left(3,6,7 \\right)}$"
      ],
      "text/plain": [
       "Eq(u(4, 6, 7), u(3, 4, 5) + 13*u(3, 5, 6) + 49*u(3, 6, 7))"
      ]
     },
     "metadata": {},
     "output_type": "display_data"
    }
   ],
   "source": [
    "from sympy import *\n",
    "x = symbols('x')\n",
    "b = 1+x\n",
    "g = 1+x+x**2\n",
    "k1 = symbols('k1', integer=True)\n",
    "\n",
    "i, j, k = symbols('i j k', integer=True, idx=Idx)\n",
    "\n",
    "# c(i,j,x) is the polynomial at [i,j] in the array\n",
    "c = Function('c')(i,j,x)\n",
    "\n",
    "# u(i,j,k) is the coefficient of x**k in c[i,j]\n",
    "u = Function('u')(i,j,k)\n",
    "\n",
    "# polynomial in the form c(i,j,x) = \\sum_{k=0}^j1 u(i,j,k) * x^k\n",
    "def cij(i1,j1):\n",
    "    return summation(u.subs({i: i1, j: j1, k: k1}) * x**k1 , (k1, 0, j1+1))\n",
    "\n",
    "# the symbolic 1st derivative of a polynomial written as a sum\n",
    "def D(S):\n",
    "    S1 = S.replace(x**k1,k1*(x**(k1-1)))\n",
    "    interv = S1.args[1].subs(0,1)\n",
    "    S2 = summation(S1.args[0],interv)\n",
    "    return S2\n",
    "\n",
    "# the symbolic 2nd derivative of a polynomial written as a sum\n",
    "def DD(S):\n",
    "    S1 = S.replace(x**k1,k1*(k1-1)*(x**(k1-2)))\n",
    "    interv = S1.args[1].subs(0,2)\n",
    "    S2 = summation(S1.args[0],interv)\n",
    "    return S2\n",
    "\n",
    "generic_formula = g*c.subs({i:i-1,j:j-2}) + b*c.subs({i:i-1,j:j-1}) + 2*g*Derivative(c.subs({i:i-1}),x,1) + b*Derivative(c.subs({i:i-1}),x,1) + g*Derivative(c.subs({i:i-1}),x,2)\n",
    "display(Eq(c,generic_formula))\n",
    "print(\"---\")\n",
    "summation_formula = g*cij(i-1,j-2) + b*cij(i-1,j-1) + 2*g*D(cij(i-1,j-1)) + b*D(cij(i-1,j)) + g*DD(cij(i-1,j))\n",
    "display(Eq(c,summation_formula))\n",
    "print(\"---\")\n",
    "display( Eq(cij(i,j),summation_formula ) )\n",
    "\n",
    "\n",
    "def unfold(i0,j0):    \n",
    "    pij = collect(expand(summation_formula.subs({i:i0,j:j0}).doit()),x)\n",
    "    return pij\n",
    "\n",
    "\n",
    "i0=4\n",
    "for j0 in [4,5,6]:\n",
    "    print(\"---\")\n",
    "    pij = poly(unfold(i0,j0),x)\n",
    "    for t in list(enumerate(reversed(pij.all_coeffs()))):\n",
    "        v,w=t\n",
    "        display(Eq(u.subs({i:i0,j:j0,k:v}),w))\n",
    "\n"
   ]
  }
 ],
 "metadata": {
  "kernelspec": {
   "display_name": "Python 3",
   "language": "python",
   "name": "python3"
  },
  "language_info": {
   "codemirror_mode": {
    "name": "ipython",
    "version": 3
   },
   "file_extension": ".py",
   "mimetype": "text/x-python",
   "name": "python",
   "nbconvert_exporter": "python",
   "pygments_lexer": "ipython3",
   "version": "3.7.3"
  }
 },
 "nbformat": 4,
 "nbformat_minor": 4
}
