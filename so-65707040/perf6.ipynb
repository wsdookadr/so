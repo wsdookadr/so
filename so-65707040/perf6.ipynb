{
 "cells": [
  {
   "cell_type": "code",
   "execution_count": 83,
   "metadata": {},
   "outputs": [
    {
     "name": "stdout",
     "output_type": "stream",
     "text": [
      "time slope = 2.95\n",
      "memory slope = 1.35\n"
     ]
    }
   ],
   "source": [
    "# in this notebook, slopes for straight lines on log-log plots are computed\n",
    "# (they correspond to the exponent of the dominant monomial)\n",
    "\n",
    "import pandas as pd\n",
    "df=pd.read_csv(\"modif7_bench.txt\", sep=',',header=0)\n",
    "\n",
    "def find_slope(col1,col2,i1,i2):\n",
    "    xData = df[col1].to_numpy()\n",
    "    yData = df[col2].to_numpy()\n",
    "    \n",
    "    x0,x1 = xData[i1],xData[i2]\n",
    "    y0,y1 = yData[i1],yData[i2]\n",
    "    \n",
    "    m = log(y1/y0)/log(x1/x0)\n",
    "    return m\n",
    "\n",
    "print(\"time slope = {0:0.2f}\".format(find_slope(\"N\",\"time\",50,60)))\n",
    "print(\"memory slope = {0:0.2f}\".format(find_slope(\"N\",\"memory\",50,60)))\n"
   ]
  }
 ],
 "metadata": {
  "kernelspec": {
   "display_name": "Python 3",
   "language": "python",
   "name": "python3"
  },
  "language_info": {
   "codemirror_mode": {
    "name": "ipython",
    "version": 3
   },
   "file_extension": ".py",
   "mimetype": "text/x-python",
   "name": "python",
   "nbconvert_exporter": "python",
   "pygments_lexer": "ipython3",
   "version": "3.7.3"
  }
 },
 "nbformat": 4,
 "nbformat_minor": 4
}
