{
 "cells": [
  {
   "cell_type": "code",
   "execution_count": 37,
   "metadata": {},
   "outputs": [
    {
     "data": {
      "text/latex": [
       "$\\displaystyle \\frac{1}{\\sigma^{2}} \\Phi^{T} \\left(- \\frac{1}{\\sigma^{2}} \\Phi \\left(\\mathbb{I} + \\Phi^{T} \\Phi\\right)^{-1} \\Phi^{T} + \\mathbb{I}\\right) \\Phi$"
      ],
      "text/plain": [
       "\\sigma**(-2)*Phi.T*((-1/\\sigma**2)*Phi*(I + Phi.T*Phi)**(-1)*Phi.T + I)*Phi"
      ]
     },
     "metadata": {},
     "output_type": "display_data"
    },
    {
     "data": {
      "text/latex": [
       "$\\displaystyle \\frac{1}{\\sigma^{2}} \\Phi^{T} \\left(- \\frac{1}{\\sigma^{2}} \\Phi \\left(\\mathbb{I} - \\Phi^{T} \\left(\\mathbb{I} + \\Phi \\Phi^{T}\\right)^{-1} \\Phi\\right) \\Phi^{T} + \\mathbb{I}\\right) \\Phi$"
      ],
      "text/plain": [
       "\\sigma**(-2)*Phi.T*((-1/\\sigma**2)*Phi*(I - Phi.T*(I + Phi*Phi.T)**(-1)*Phi)*Phi.T + I)*Phi"
      ]
     },
     "metadata": {},
     "output_type": "display_data"
    },
    {
     "data": {
      "text/latex": [
       "$\\displaystyle - \\frac{1}{\\sigma^{4}} \\left(\\Phi^{T} \\Phi\\right)^{2} + \\frac{1}{\\sigma^{2}} \\Phi^{T} \\Phi + \\frac{1}{\\sigma^{4}} \\Phi^{T} \\Phi \\Phi^{T} \\left(\\mathbb{I} + \\Phi \\Phi^{T}\\right)^{-1} \\Phi \\Phi^{T} \\Phi$"
      ],
      "text/plain": [
       "(-1/\\sigma**4)*(Phi.T*Phi)**2 + \\sigma**(-2)*Phi.T*Phi + \\sigma**(-4)*Phi.T*Phi*Phi.T*(I + Phi*Phi.T)**(-1)*Phi*Phi.T*Phi"
      ]
     },
     "metadata": {},
     "output_type": "display_data"
    }
   ],
   "source": [
    "# https://stackoverflow.com/q/66079191/827519\n",
    "\n",
    "from sympy.simplify.simplify import nc_simplify\n",
    "from sympy import *\n",
    "N,M,sigma = symbols(\"N M \\sigma\")\n",
    "Phi = MatrixSymbol(\"Phi\", N, M)\n",
    "In,Im = Identity(N), Identity(M)\n",
    "\n",
    "f = (Im + Phi.transpose()@Phi).inverse()\n",
    "f = f @ Phi.transpose()\n",
    "f = Phi @ f\n",
    "f = In - sigma**(-2)*f\n",
    "f = sigma**(-2)*Phi.transpose()@f\n",
    "f = f@ Phi\n",
    "\n",
    "\n",
    "def apply_woodburry_1(e,U,V):\n",
    "    # The Woodbury identity\n",
    "    #\n",
    "    # (I+UV)^-1 = I - U * (I+VU)^-1 * V\n",
    "    # \n",
    "    # Below, P will be LHS and Q will be RHS\n",
    "    #\n",
    "    UV_dim = (U * V).shape\n",
    "    I1 = Identity(UV_dim[0])\n",
    "    VU_dim = (V * U).shape\n",
    "    I2 = Identity(VU_dim[0])\n",
    "    \n",
    "    P = (I1+U*V)**(-1)\n",
    "    Q = I1 - U * ( (I2+V*U)**(-1) ) * V\n",
    "    \n",
    "    return e.replace(P,Q)\n",
    "\n",
    "\n",
    "display(f)\n",
    "f = apply_woodburry_1(f,Phi.transpose(),Phi)\n",
    "display(f)\n",
    "f = nc_simplify(f.expand())\n",
    "display(f)"
   ]
  }
 ],
 "metadata": {
  "kernelspec": {
   "display_name": "Python 3",
   "language": "python",
   "name": "python3"
  },
  "language_info": {
   "codemirror_mode": {
    "name": "ipython",
    "version": 3
   },
   "file_extension": ".py",
   "mimetype": "text/x-python",
   "name": "python",
   "nbconvert_exporter": "python",
   "pygments_lexer": "ipython3",
   "version": "3.7.3"
  }
 },
 "nbformat": 4,
 "nbformat_minor": 4
}
